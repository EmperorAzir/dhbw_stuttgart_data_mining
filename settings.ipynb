{
 "cells": [
  {
   "cell_type": "markdown",
   "metadata": {},
   "source": [
    "## Python Version"
   ]
  },
  {
   "cell_type": "code",
   "execution_count": 2,
   "metadata": {},
   "outputs": [
    {
     "name": "stdout",
     "output_type": "stream",
     "text": [
      "Python 3.8.0\r\n"
     ]
    }
   ],
   "source": [
    "!python --version"
   ]
  },
  {
   "cell_type": "code",
   "execution_count": 3,
   "metadata": {},
   "outputs": [
    {
     "name": "stdout",
     "output_type": "stream",
     "text": [
      "/Users/Tin/projects/test_dhbw_data_mining/venv/bin/python\r\n"
     ]
    }
   ],
   "source": [
    "!which python"
   ]
  },
  {
   "cell_type": "markdown",
   "metadata": {},
   "source": [
    "## Verwendete Python-Module"
   ]
  },
  {
   "cell_type": "code",
   "execution_count": 2,
   "metadata": {},
   "outputs": [
    {
     "name": "stdout",
     "output_type": "stream",
     "text": [
      "Package         Version     \r\n",
      "--------------- ------------\r\n",
      "cycler          0.10.0      \r\n",
      "joblib          0.14.1      \r\n",
      "kiwisolver      1.2.0       \r\n",
      "matplotlib      3.2.1       \r\n",
      "numpy           1.18.2      \r\n",
      "pandas          1.0.3       \r\n",
      "pip             20.0.2      \r\n",
      "pyparsing       2.4.7       \r\n",
      "python-dateutil 2.8.1       \r\n",
      "pytz            2019.3      \r\n",
      "scikit-learn    0.22.2.post1\r\n",
      "scipy           1.4.1       \r\n",
      "setuptools      46.1.3      \r\n",
      "six             1.14.0      \r\n",
      "wheel           0.34.2      \r\n"
     ]
    }
   ],
   "source": [
    "!pip list"
   ]
  },
  {
   "cell_type": "code",
   "execution_count": 3,
   "metadata": {},
   "outputs": [
    {
     "name": "stdout",
     "output_type": "stream",
     "text": [
      "\u001b[01;34m.\u001b[00m\r\n",
      "├── README.md\r\n",
      "├── \u001b[01;34maws\u001b[00m\r\n",
      "│   └── ec2_dhbw_key.pem\r\n",
      "├── \u001b[01;34mconfig\u001b[00m\r\n",
      "│   ├── \u001b[01;34maws_jupyterhub\u001b[00m\r\n",
      "│   │   ├── \u001b[01;34mtf-jupyterhub-aws-master\u001b[00m\r\n",
      "│   │   │   ├── README.md\r\n",
      "│   │   │   ├── aws-creds.tf\r\n",
      "│   │   │   ├── example_tfvars.png\r\n",
      "│   │   │   ├── launch-jupyter.tf\r\n",
      "│   │   │   ├── terraform.tfstate\r\n",
      "│   │   │   ├── terraform.tfstate.backup\r\n",
      "│   │   │   └── terraform.tfvars\r\n",
      "│   │   └── \u001b[01;31mtf-jupyterhub-aws-master.zip\u001b[00m\r\n",
      "│   └── \u001b[01;34mterraform\u001b[00m\r\n",
      "│       └── \u001b[01;31mterraform_0.12.24_darwin_amd64.zip\u001b[00m\r\n",
      "├── \u001b[01;34mdatasets\u001b[00m\r\n",
      "│   └── \u001b[01;34mhousing\u001b[00m\r\n",
      "│       ├── housing.csv\r\n",
      "│       └── \u001b[01;31mhousing.tgz\u001b[00m\r\n",
      "├── \u001b[01;32mhouse_prizing.ipynb\u001b[00m\r\n",
      "├── \u001b[01;34mimages\u001b[00m\r\n",
      "│   ├── california.png\r\n",
      "│   ├── dhbw.png\r\n",
      "│   └── \u001b[01;34mend_to_end_project\u001b[00m\r\n",
      "├── requirements.txt\r\n",
      "└── settings.ipynb\r\n",
      "\r\n",
      "9 directories, 18 files\r\n"
     ]
    }
   ],
   "source": [
    "!tree"
   ]
  },
  {
   "cell_type": "code",
   "execution_count": 7,
   "metadata": {},
   "outputs": [],
   "source": [
    "#!pip3 freeze > requirements.txt"
   ]
  },
  {
   "cell_type": "markdown",
   "metadata": {},
   "source": [
    "## Installieren der benötigten Python-Module"
   ]
  },
  {
   "cell_type": "code",
   "execution_count": 4,
   "metadata": {},
   "outputs": [],
   "source": [
    "#!pip3 install numpy matplotlib pandas scikit-learn jupyter"
   ]
  },
  {
   "cell_type": "code",
   "execution_count": 8,
   "metadata": {},
   "outputs": [],
   "source": [
    "#!pip3 install --upgrade -r requirements.txt"
   ]
  },
  {
   "cell_type": "code",
   "execution_count": null,
   "metadata": {},
   "outputs": [],
   "source": []
  }
 ],
 "metadata": {
  "kernelspec": {
   "display_name": "Python 3",
   "language": "python",
   "name": "python3"
  },
  "language_info": {
   "codemirror_mode": {
    "name": "ipython",
    "version": 3
   },
   "file_extension": ".py",
   "mimetype": "text/x-python",
   "name": "python",
   "nbconvert_exporter": "python",
   "pygments_lexer": "ipython3",
   "version": "3.8.0"
  }
 },
 "nbformat": 4,
 "nbformat_minor": 4
}
