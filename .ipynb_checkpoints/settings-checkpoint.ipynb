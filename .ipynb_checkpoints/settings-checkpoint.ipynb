{
 "cells": [
  {
   "cell_type": "markdown",
   "metadata": {},
   "source": [
    "## Python Version"
   ]
  },
  {
   "cell_type": "code",
   "execution_count": 1,
   "metadata": {},
   "outputs": [
    {
     "name": "stdout",
     "output_type": "stream",
     "text": [
      "Python 3.8.0\r\n"
     ]
    }
   ],
   "source": [
    "!python --version"
   ]
  },
  {
   "cell_type": "code",
   "execution_count": 2,
   "metadata": {},
   "outputs": [
    {
     "name": "stdout",
     "output_type": "stream",
     "text": [
      "/Users/Tin/.virtualenvs/dhbw_data_mining/bin/python\r\n"
     ]
    }
   ],
   "source": [
    "!which python"
   ]
  },
  {
   "cell_type": "markdown",
   "metadata": {},
   "source": [
    "## Verwendete Python-Module"
   ]
  },
  {
   "cell_type": "code",
   "execution_count": 3,
   "metadata": {},
   "outputs": [
    {
     "name": "stdout",
     "output_type": "stream",
     "text": [
      "Package            Version     \r\n",
      "------------------ ------------\r\n",
      "appnope            0.1.0       \r\n",
      "attrs              19.3.0      \r\n",
      "backcall           0.1.0       \r\n",
      "bleach             3.1.4       \r\n",
      "cycler             0.10.0      \r\n",
      "decorator          4.4.2       \r\n",
      "defusedxml         0.6.0       \r\n",
      "entrypoints        0.3         \r\n",
      "ipykernel          5.2.0       \r\n",
      "ipython            7.13.0      \r\n",
      "ipython-genutils   0.2.0       \r\n",
      "ipywidgets         7.5.1       \r\n",
      "jedi               0.16.0      \r\n",
      "Jinja2             2.11.1      \r\n",
      "joblib             0.14.1      \r\n",
      "jsonschema         3.2.0       \r\n",
      "jupyter            1.0.0       \r\n",
      "jupyter-client     6.1.2       \r\n",
      "jupyter-console    6.1.0       \r\n",
      "jupyter-core       4.6.3       \r\n",
      "kiwisolver         1.1.0       \r\n",
      "MarkupSafe         1.1.1       \r\n",
      "matplotlib         3.2.1       \r\n",
      "mistune            0.8.4       \r\n",
      "nbconvert          5.6.1       \r\n",
      "nbformat           5.0.4       \r\n",
      "notebook           6.0.3       \r\n",
      "numpy              1.18.2      \r\n",
      "pandas             1.0.3       \r\n",
      "pandocfilters      1.4.2       \r\n",
      "parso              0.6.2       \r\n",
      "pexpect            4.8.0       \r\n",
      "pickleshare        0.7.5       \r\n",
      "pip                19.0.3      \r\n",
      "prometheus-client  0.7.1       \r\n",
      "prompt-toolkit     3.0.5       \r\n",
      "ptyprocess         0.6.0       \r\n",
      "Pygments           2.6.1       \r\n",
      "pyparsing          2.4.6       \r\n",
      "pyrsistent         0.16.0      \r\n",
      "python-dateutil    2.8.1       \r\n",
      "pytz               2019.3      \r\n",
      "pyzmq              19.0.0      \r\n",
      "qtconsole          4.7.2       \r\n",
      "QtPy               1.9.0       \r\n",
      "scikit-learn       0.22.2.post1\r\n",
      "scipy              1.4.1       \r\n",
      "seaborn            0.10.0      \r\n",
      "Send2Trash         1.5.0       \r\n",
      "setuptools         40.8.0      \r\n",
      "six                1.14.0      \r\n",
      "terminado          0.8.3       \r\n",
      "testpath           0.4.4       \r\n",
      "tornado            6.0.4       \r\n",
      "traitlets          4.3.3       \r\n",
      "wcwidth            0.1.9       \r\n",
      "webencodings       0.5.1       \r\n",
      "widgetsnbextension 3.5.1       \r\n"
     ]
    }
   ],
   "source": [
    "!pip list"
   ]
  },
  {
   "cell_type": "code",
   "execution_count": 4,
   "metadata": {},
   "outputs": [
    {
     "name": "stdout",
     "output_type": "stream",
     "text": [
      "\u001b[01;34m.\u001b[00m\r\n",
      "├── README.md\r\n",
      "├── \u001b[01;34mdatasets\u001b[00m\r\n",
      "│   └── \u001b[01;34mhousing\u001b[00m\r\n",
      "│       ├── housing.csv\r\n",
      "│       └── \u001b[01;31mhousing.tgz\u001b[00m\r\n",
      "├── \u001b[01;34mimages\u001b[00m\r\n",
      "│   ├── california.png\r\n",
      "│   ├── dhbw.png\r\n",
      "│   └── \u001b[01;34mend_to_end_project\u001b[00m\r\n",
      "├── requirements.txt\r\n",
      "├── settings.ipynb\r\n",
      "├── \u001b[01;32mworkshop_data_mining.ipynb\u001b[00m\r\n",
      "└── workshop_data_mining_script.pdf\r\n",
      "\r\n",
      "4 directories, 9 files\r\n"
     ]
    }
   ],
   "source": [
    "!tree"
   ]
  },
  {
   "cell_type": "code",
   "execution_count": 7,
   "metadata": {},
   "outputs": [],
   "source": [
    "#!pip3 freeze > requirements.txt"
   ]
  },
  {
   "cell_type": "markdown",
   "metadata": {},
   "source": [
    "## Installieren der benötigten Python-Module"
   ]
  },
  {
   "cell_type": "code",
   "execution_count": 4,
   "metadata": {},
   "outputs": [],
   "source": [
    "#!pip3 install numpy matplotlib pandas scikit-learn jupyter"
   ]
  },
  {
   "cell_type": "code",
   "execution_count": 8,
   "metadata": {},
   "outputs": [],
   "source": [
    "#!pip3 install --upgrade -r requirements.txt"
   ]
  },
  {
   "cell_type": "code",
   "execution_count": null,
   "metadata": {},
   "outputs": [],
   "source": []
  }
 ],
 "metadata": {
  "kernelspec": {
   "display_name": "Python 3",
   "language": "python",
   "name": "python3"
  },
  "language_info": {
   "codemirror_mode": {
    "name": "ipython",
    "version": 3
   },
   "file_extension": ".py",
   "mimetype": "text/x-python",
   "name": "python",
   "nbconvert_exporter": "python",
   "pygments_lexer": "ipython3",
   "version": "3.8.0"
  }
 },
 "nbformat": 4,
 "nbformat_minor": 4
}
